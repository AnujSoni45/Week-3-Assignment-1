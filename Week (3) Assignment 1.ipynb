{
 "cells": [
  {
   "cell_type": "code",
   "execution_count": null,
   "id": "a5bd9d54-be10-41fc-967f-9e370416d6ff",
   "metadata": {},
   "outputs": [],
   "source": [
    "Q1. Which keyword is used to create a function? Create a function to return a list of odd numbers in the \n",
    "range of 1 to 25"
   ]
  },
  {
   "cell_type": "code",
   "execution_count": null,
   "id": "3d145744-2d2e-412c-973f-f99963d2a666",
   "metadata": {},
   "outputs": [],
   "source": [
    "ANSWER :\n",
    "The keyword used to create a function is typically \"def\" (short for \"define\")\n",
    "Here's an example of how you can create a function to return a list of odd numbers in the \n",
    "range of 1 to 25 in Python:\n",
    "    \n",
    "    def get_odd_numbers():\n",
    "    odd_numbers = []\n",
    "    for number in range(1, 26):\n",
    "        if number % 2 != 0:\n",
    "            odd_numbers.append(number)\n",
    "    return odd_numbers\n",
    "\n",
    "    # Call the function\n",
    "    result = get_odd_numbers()\n",
    "    print(result)\n",
    "    \n",
    "Output:\n",
    "    [1, 3, 5, 7, 9, 11, 13, 15, 17, 19, 21, 23, 25]"
   ]
  },
  {
   "cell_type": "code",
   "execution_count": null,
   "id": "dd358308-72d3-4138-b358-120f3e675c66",
   "metadata": {},
   "outputs": [],
   "source": [
    "Q2. Why *args and **kwargs is used in some functions? Create a function each for *args and **kwargs \n",
    "to demonstrate their use."
   ]
  },
  {
   "cell_type": "code",
   "execution_count": null,
   "id": "cc591655-7f36-4129-a69e-5bec453e4bae",
   "metadata": {},
   "outputs": [],
   "source": [
    "ANSWER:\n",
    "The *args and **kwargs syntax in Python is used to handle a variable number of arguments in a function.\n",
    "Here's an example of a function that demonstrates the use of *args:\n",
    "    def concatenate_strings(*args):\n",
    "    result = \"\"\n",
    "    for arg in args:\n",
    "        result += arg\n",
    "    return result\n",
    "\n",
    "    # Call the function\n",
    "    output = concatenate_strings(\"Hello\", \" \", \"world\", \"!\")\n",
    "    print(output)\n",
    "Output:\n",
    "    Hello world!\n",
    "    \n",
    "Now let's see an example of a function that demonstrates the use of **kwargs:\n",
    "    def print_person_details(**kwargs):\n",
    "    for key, value in kwargs.items():\n",
    "        print(f\"{key}: {value}\")\n",
    "\n",
    "    # Call the function\n",
    "    print_person_details(name=\"John\", age=30, city=\"New York\")\n",
    "Output:\n",
    "    name: John\n",
    "    age: 30\n",
    "    city: New York"
   ]
  },
  {
   "cell_type": "code",
   "execution_count": null,
   "id": "4c4fb619-bd4c-4169-aada-ff8f6aa8151c",
   "metadata": {},
   "outputs": [],
   "source": [
    "Q3. What is an iterator in python? Name the method used to initialise the iterator object and the method \n",
    "used for iteration. Use these methods to print the first five elements of the given list [2, 4, 6, 8, 10, 12, 14, \n",
    "16, 18, 20]."
   ]
  },
  {
   "cell_type": "code",
   "execution_count": null,
   "id": "ed5efbc8-5264-43ce-b21f-2c8340b9256c",
   "metadata": {},
   "outputs": [],
   "source": [
    "ANSWER:\n",
    "Iterator is an object that implements the iterator protocol, which consists of two methods: __iter__() \n",
    "and __next__().\n",
    "Here's an example that demonstrates the use of iterators to print the first five elements of the given \n",
    "list [2, 4, 6, 8, 10, 12, 14, 16, 18, 20]:\n",
    "    \n",
    "    numbers = [2, 4, 6, 8, 10, 12, 14, 16, 18, 20]\n",
    "\n",
    "    # Create an iterator object\n",
    "    iterator = iter(numbers)\n",
    "\n",
    "    # Iterate and print the first five elements\n",
    "    for _ in range(5):\n",
    "    element = next(iterator)\n",
    "    print(element)\n",
    "    \n",
    "Output:\n",
    "    2\n",
    "    4\n",
    "    6\n",
    "    8\n",
    "    10"
   ]
  },
  {
   "cell_type": "code",
   "execution_count": null,
   "id": "bd8e5ed3-4837-416c-bcbe-bfb407b908c9",
   "metadata": {},
   "outputs": [],
   "source": [
    "Q4. What is a generator function in python? Why yield keyword is used? Give an example of a generator function."
   ]
  },
  {
   "cell_type": "code",
   "execution_count": null,
   "id": "ae7d490d-fbdf-4e98-95dd-c137c72aff1c",
   "metadata": {},
   "outputs": [],
   "source": [
    "ANSWER:\n",
    "In Python, a generator function is a special type of function that returns an iterator object \n",
    "called a generator.    \n",
    "The yield keyword is used within a generator function to pause the execution of the function \n",
    "and yield a value to the caller.\n",
    "Here's an example of a generator function that generates a sequence of Fibonacci numbers:\n",
    "    def fibonacci_generator():\n",
    "    a, b = 0, 1\n",
    "    while True:\n",
    "        yield a\n",
    "        a, b = b, a + b\n",
    "\n",
    "    # Create a generator object\n",
    "    fib_gen = fibonacci_generator()\n",
    "\n",
    "    # Iterate and print the first 10 Fibonacci numbers\n",
    "    for _ in range(10):\n",
    "    fib_num = next(fib_gen)\n",
    "    print(fib_num)\n",
    "Output:\n",
    "    0\n",
    "    1\n",
    "    1\n",
    "    2\n",
    "    3\n",
    "    5\n",
    "    8\n",
    "    13\n",
    "    21\n",
    "    34"
   ]
  },
  {
   "cell_type": "code",
   "execution_count": null,
   "id": "e02ee895-ca85-44d3-b369-04be3004d69b",
   "metadata": {},
   "outputs": [],
   "source": [
    "Q5. Create a generator function for prime numbers less than 1000. Use the next() method to print the \n",
    "first 20 prime numbers."
   ]
  },
  {
   "cell_type": "code",
   "execution_count": null,
   "id": "3eb6d5fa-0dab-4628-8780-b43a5048a472",
   "metadata": {},
   "outputs": [],
   "source": [
    "ANSWER:\n",
    "Here's an example of a generator function that generates prime numbers less than 1000, and then prints the \n",
    "first 20 prime numbers using the next() method:\n",
    "    def prime_generator():\n",
    "    primes = []\n",
    "    number = 2\n",
    "    while True:\n",
    "        if all(number % prime != 0 for prime in primes):\n",
    "            primes.append(number)\n",
    "            yield number\n",
    "        number += 1\n",
    "\n",
    "    # Create a generator object\n",
    "    prime_gen = prime_generator()\n",
    "\n",
    "    # Print the first 20 prime numbers\n",
    "    for _ in range(20):\n",
    "    prime_num = next(prime_gen)\n",
    "    print(prime_num)\n",
    "Output:\n",
    "    2\n",
    "    3\n",
    "    5\n",
    "    7\n",
    "    11\n",
    "    13\n",
    "    17\n",
    "    19\n",
    "    23\n",
    "    29\n",
    "    31\n",
    "    37\n",
    "    41\n",
    "    43\n",
    "    47\n",
    "    53\n",
    "    59\n",
    "    61\n",
    "    67\n",
    "    71\n",
    "\n",
    "    "
   ]
  },
  {
   "cell_type": "code",
   "execution_count": null,
   "id": "a26f29a4-cb61-4c2f-868e-fce230c5841e",
   "metadata": {},
   "outputs": [],
   "source": [
    "Q6. Write a python program to print the first 10 Fibonacci numbers using a while loop."
   ]
  },
  {
   "cell_type": "code",
   "execution_count": 1,
   "id": "ddc1de6e-8eb2-4a38-8f24-d5b150fdca56",
   "metadata": {},
   "outputs": [
    {
     "name": "stdout",
     "output_type": "stream",
     "text": [
      "The first 10 Fibonacci numbers are:\n",
      "0\n",
      "1\n",
      "1\n",
      "2\n",
      "3\n",
      "5\n",
      "8\n",
      "13\n",
      "21\n",
      "34\n"
     ]
    }
   ],
   "source": [
    "# Function to print the first 10 Fibonacci numbers\n",
    "def print_fibonacci():\n",
    "    count = 10\n",
    "    fibonacci_sequence = []\n",
    "    a, b = 0, 1\n",
    "    while count > 0:\n",
    "        fibonacci_sequence.append(a)\n",
    "        a, b = b, a + b\n",
    "        count -= 1\n",
    "\n",
    "    print(\"The first 10 Fibonacci numbers are:\")\n",
    "    for number in fibonacci_sequence:\n",
    "        print(number)\n",
    "\n",
    "# Call the function\n",
    "print_fibonacci()\n"
   ]
  },
  {
   "cell_type": "code",
   "execution_count": null,
   "id": "847c11fa-67c1-47d5-9520-1580c77bb7b7",
   "metadata": {},
   "outputs": [],
   "source": [
    "Q7. Write a List Comprehension to iterate through the given string: ‘pwskills’.\n",
    "Expected output: ['p', 'w', 's', 'k', 'i', 'l', 'l', 's']"
   ]
  },
  {
   "cell_type": "code",
   "execution_count": 2,
   "id": "93cd9425-a5c0-450d-929f-06ee7217cd3d",
   "metadata": {},
   "outputs": [
    {
     "name": "stdout",
     "output_type": "stream",
     "text": [
      "['p', 'w', 's', 'k', 'i', 'l', 'l', 's']\n"
     ]
    }
   ],
   "source": [
    "string = 'pwskills'\n",
    "result = [char for char in string]\n",
    "print(result)\n"
   ]
  },
  {
   "cell_type": "code",
   "execution_count": null,
   "id": "540f4979-0fbb-4170-bb58-62c3d22ed011",
   "metadata": {},
   "outputs": [],
   "source": [
    "Q8. Write a python program to check whether a given number is Palindrome or not using a while loop"
   ]
  },
  {
   "cell_type": "code",
   "execution_count": 3,
   "id": "3e054082-bf69-4a14-a807-a2313b30d83e",
   "metadata": {},
   "outputs": [
    {
     "name": "stdin",
     "output_type": "stream",
     "text": [
      "Enter a number:  12341\n"
     ]
    },
    {
     "name": "stdout",
     "output_type": "stream",
     "text": [
      "12341 is not a palindrome.\n"
     ]
    }
   ],
   "source": [
    "def is_palindrome(number):\n",
    "    original_number = number\n",
    "    reverse_number = 0\n",
    "\n",
    "    while number > 0:\n",
    "        digit = number % 10\n",
    "        reverse_number = (reverse_number * 10) + digit\n",
    "        number = number // 10\n",
    "\n",
    "    if original_number == reverse_number:\n",
    "        return True\n",
    "    else:\n",
    "        return False\n",
    "\n",
    "# Test the function\n",
    "num = int(input(\"Enter a number: \"))\n",
    "if is_palindrome(num):\n",
    "    print(f\"{num} is a palindrome.\")\n",
    "else:\n",
    "    print(f\"{num} is not a palindrome.\")\n"
   ]
  },
  {
   "cell_type": "code",
   "execution_count": null,
   "id": "f3b25430-aa1b-4cd7-855f-1f145e848ff8",
   "metadata": {},
   "outputs": [],
   "source": [
    "Q9. Write a code to print odd numbers from 1 to 100 using list comprehension."
   ]
  },
  {
   "cell_type": "code",
   "execution_count": 4,
   "id": "20da2192-a37c-48d8-a68c-82ba70d3e067",
   "metadata": {},
   "outputs": [
    {
     "name": "stdout",
     "output_type": "stream",
     "text": [
      "[1, 3, 5, 7, 9, 11, 13, 15, 17, 19, 21, 23, 25, 27, 29, 31, 33, 35, 37, 39, 41, 43, 45, 47, 49, 51, 53, 55, 57, 59, 61, 63, 65, 67, 69, 71, 73, 75, 77, 79, 81, 83, 85, 87, 89, 91, 93, 95, 97, 99]\n"
     ]
    }
   ],
   "source": [
    "# Using list comprehension to filter odd numbers\n",
    "odd_numbers = [num for num in range(1, 101) if num % 2 != 0]\n",
    "\n",
    "# Print the odd numbers\n",
    "print(odd_numbers)\n"
   ]
  },
  {
   "cell_type": "code",
   "execution_count": null,
   "id": "989b2c09-4922-4c90-96d2-099977a23229",
   "metadata": {},
   "outputs": [],
   "source": []
  }
 ],
 "metadata": {
  "kernelspec": {
   "display_name": "Python 3 (ipykernel)",
   "language": "python",
   "name": "python3"
  },
  "language_info": {
   "codemirror_mode": {
    "name": "ipython",
    "version": 3
   },
   "file_extension": ".py",
   "mimetype": "text/x-python",
   "name": "python",
   "nbconvert_exporter": "python",
   "pygments_lexer": "ipython3",
   "version": "3.10.8"
  }
 },
 "nbformat": 4,
 "nbformat_minor": 5
}
